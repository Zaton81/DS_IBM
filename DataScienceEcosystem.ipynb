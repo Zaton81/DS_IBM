{
 "cells": [
  {
   "cell_type": "markdown",
   "id": "2e42decd-dd24-4d4d-aece-3f7679590ff3",
   "metadata": {},
   "source": [
    "# Data Science Tools and Ecosystem\n"
   ]
  },
  {
   "cell_type": "markdown",
   "id": "13195980-4123-4fd1-b143-afe6cf19e3a4",
   "metadata": {},
   "source": [
    "In this notebook, Data Science Tools and Ecosystem are summarized.\r\n"
   ]
  },
  {
   "cell_type": "markdown",
   "id": "f7fa5453-3ed5-4b55-a9a0-255809737acf",
   "metadata": {},
   "source": [
    "**Objectives:**\n",
    "* List popular languages for Data Science\n",
    "* List some libraries used by Data Scientists\n",
    "* List popular Tools used for Data Science\n",
    "* Show how to evaluate arithmetic expressions in Python"
   ]
  },
  {
   "cell_type": "markdown",
   "id": "1f903b49-5edf-4692-a20f-250bb931de40",
   "metadata": {},
   "source": [
    "Some of the popular languages that Data Scientists use are:\n",
    "1. Python\n",
    "2. R\n",
    "3. SQL\n",
    "4. Java\n",
    "5. Scala\n",
    "6. C\n"
   ]
  },
  {
   "cell_type": "markdown",
   "id": "8015d07a-c967-48a8-8383-1a3921dbefd6",
   "metadata": {},
   "source": [
    "Some of the commonly used libraries used by Data Scientists include:\r",
    " 1. Pandas\n",
    " 2. Numpy\n",
    " 3. Plotly\n",
    " 4. Scikit-learn\n"
   ]
  },
  {
   "cell_type": "markdown",
   "id": "b9e7ef08-8fb2-4a4f-a030-d39f0fd821eb",
   "metadata": {},
   "source": [
    "|Data Science Tools |\n",
    "| -----|\n",
    "| Jupyter Notebook |\n",
    "| Apache Spark|\n",
    "| R Studio |\n",
    "\n"
   ]
  },
  {
   "cell_type": "markdown",
   "id": "9359bd98-4388-4fa6-8553-70b25a3dd877",
   "metadata": {},
   "source": [
    "### Below are a few examples of evaluating arithmetic expressions in Python.\n"
   ]
  },
  {
   "cell_type": "code",
   "execution_count": 26,
   "id": "f3a7b638-a812-4ae5-ae86-05bcb2a1da41",
   "metadata": {},
   "outputs": [
    {
     "data": {
      "text/plain": [
       "17"
      ]
     },
     "execution_count": 26,
     "metadata": {},
     "output_type": "execute_result"
    }
   ],
   "source": [
    "(3*4)+5\n",
    "# This a simple arithmetic expression to mutiply then add integers"
   ]
  },
  {
   "cell_type": "code",
   "execution_count": 30,
   "id": "c6ea580f-ef64-4096-aca6-f37b44850654",
   "metadata": {},
   "outputs": [
    {
     "name": "stdout",
     "output_type": "stream",
     "text": [
      "3.3333333333333335\n"
     ]
    }
   ],
   "source": [
    "minutes_to_hours = 200/60\n",
    "#This will convert 200 minutes to hours by diving by 60\n",
    "print(minutes_to_hours)"
   ]
  },
  {
   "cell_type": "markdown",
   "id": "acb36f0c-beae-4291-b3d6-75acf96a5220",
   "metadata": {},
   "source": [
    "## Author\n",
    "Jorge Zatón"
   ]
  }
 ],
 "metadata": {
  "kernelspec": {
   "display_name": "Python 3 (ipykernel)",
   "language": "python",
   "name": "python3"
  },
  "language_info": {
   "codemirror_mode": {
    "name": "ipython",
    "version": 3
   },
   "file_extension": ".py",
   "mimetype": "text/x-python",
   "name": "python",
   "nbconvert_exporter": "python",
   "pygments_lexer": "ipython3",
   "version": "3.11.7"
  }
 },
 "nbformat": 4,
 "nbformat_minor": 5
}
